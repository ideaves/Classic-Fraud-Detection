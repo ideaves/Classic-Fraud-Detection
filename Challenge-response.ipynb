{
 "cells": [
  {
   "cell_type": "raw",
   "id": "2aaa89ea-8431-4a25-bac3-e7375c361e35",
   "metadata": {},
   "source": [
    "I received the problem description and the two data files, opened them, and briefly examined the data files as raw data. Based on general reading, there are a number of directions one could go. Since there are specific tasks outlined, we'll focus on those as they are listed.\n",
    "\n",
    "1) For each user, determine her country based on the numeric IP address:\n",
    "\n",
    "Simple enough, basically a left join on ip_address between the upper and lower bound. Pandas would be more familiar syntax, but the join capability is too primitive. PySpark is actually faster, and has a more flexible join specification, where we can target the match logic exactly. This omits interesting information that might enhance a fraud identification, like whether the ip address is a non-routeable address, or a loopback address. Address block size can be inferred, since upper and lower bounds are carried along with the join.\n",
    "\n",
    "Actually, here it should be mentioned, I've only used PySpark once before. I'm mostly a Tensorflow/Keras guy, for the neural network dimension of the data science space. This is a bit of a PySpark tutorial for me.\n"
   ]
  },
  {
   "cell_type": "code",
   "execution_count": 1,
   "id": "4e081b98-14ff-4fd2-a141-44767fa30f6a",
   "metadata": {},
   "outputs": [
    {
     "name": "stdout",
     "output_type": "stream",
     "text": [
      "+-------+------------------+-------------------+-------------------+------------------+-------------+------+-------+------+-----------------+--------------------+-------------------+----------------------+----------------------+-----------+\n",
      "|summary|           user_id|        signup_time|      purchase_time|    purchase_value|    device_id|source|browser|   sex|              age|          ip_address|              class|lower_bound_ip_address|upper_bound_ip_address|    country|\n",
      "+-------+------------------+-------------------+-------------------+------------------+-------------+------+-------+------+-----------------+--------------------+-------------------+----------------------+----------------------+-----------+\n",
      "|  count|            151112|             151112|             151112|            151112|       151112|151112| 151112|151112|           151112|              151112|             151112|                129146|                129146|     129146|\n",
      "|   mean|200171.04096961193|               null|               null| 36.93537243898565|         null|  null|   null|  null|33.14070358409656|2.1521453309588294E9|0.09364577267192546|  1.8909504977091973E9|  1.8946463093129792E9|       null|\n",
      "| stddev|115369.28502413427|               null|               null|18.322762148662104|         null|  null|   null|  null|8.617733490961454|1.2484970301004267E9| 0.2913362380721446|  1.0868021001514916E9|  1.0836353259556587E9|       null|\n",
      "|    min|                 2|2015-01-01 00:00:42|2015-01-01 00:00:44|                 9|AAALBGNHHVMKG|   Ads| Chrome|     F|               18|    52093.4968949854|                  0|            1.677824E7|              16779263|Afghanistan|\n",
      "|    25%|            100619|               null|               null|                22|         null|  null|   null|  null|               27|   1.0857514585851E9|                  0|          9.39524096E8|             956301311|       null|\n",
      "|    50%|            199927|               null|               null|                35|         null|  null|   null|  null|               33|  2.15446914565614E9|                  0|         1.899364352E9|            1899495423|       null|\n",
      "|    75%|            300017|               null|               null|                49|         null|  null|   null|  null|               39|  3.24302870987025E9|                  0|         2.831089664E9|            2831155199|       null|\n",
      "|    max|            400000|2015-08-18 04:40:29|2015-12-16 02:56:05|               154|ZZZXASJUVUNMV|   SEO| Safari|     M|               76|  4.29485049967884E9|                  1|         3.758030848E9|            3758063615|   Zimbabwe|\n",
      "+-------+------------------+-------------------+-------------------+------------------+-------------+------+-------+------+-----------------+--------------------+-------------------+----------------------+----------------------+-----------+\n",
      "\n"
     ]
    }
   ],
   "source": [
    "from pyspark.ml import Pipeline\n",
    "from pyspark.mllib.evaluation import BinaryClassificationMetrics\n",
    "\n",
    "from pyspark.sql import SparkSession\n",
    "\n",
    "spark = SparkSession.builder.appName(\"read csv file\").getOrCreate()\n",
    "\n",
    "ip_df = spark.read.csv('IpAddress_to_Country.csv', header=True, inferSchema=True)\n",
    "transaction_df = spark.read.csv('Fraud_Data.csv', header=True, inferSchema=True)\n",
    "\n",
    "cond = [transaction_df.ip_address >= ip_df.lower_bound_ip_address,\n",
    "        transaction_df.ip_address <= ip_df.upper_bound_ip_address]\n",
    "transaction_df = transaction_df.join(ip_df, cond, 'left')\n",
    "\n",
    "transaction_df.summary().show()"
   ]
  },
  {
   "cell_type": "raw",
   "id": "d34e8a7d-ff68-4be6-b308-194c1bb5ee5e",
   "metadata": {},
   "source": [
    "2) Build a model to predict whether an activity is fraudulent or not. Explain how different assumptions about the cost of false positives vs false negatives would impact the model.\n",
    "\n",
    "This would be a binary probabilistic model, which could be estimated in several different ways, using classical statistics, e.g. a multiple analysis of variance model (ANOVA/MANOVA), just indexing the categorical explanatory values into a big matrix, counting the classifier positives, or create indicator variables out of the multi-valued categorical variables, and run a logistic regression against the classifier's numerical value. I won't spend the time in this challenge to implement each one that I could, but instead, I'll concentrate on the capstone.\n",
    "\n",
    "The object here, using pyspark, would (I'm assuming) be to apply some useful classifier neural network style model, like DecisionTree, or RandomForest, possibly GBT (I'll admit I'm not as literate in PySpark as I could be after some time with it). The idea would generically be to minimize precision versus what we'll call the positive identification class, on the premise that you'd want as few false positives as possible. \n",
    "\n",
    "For fraud detection, you'd most likely want to minimize the false positives, since the hits are harmful, and the passes are not. But denying a legitimate customer, probably losing them permanently, is not free either, so possibly some constant value could be imputed independently for false negatives, contra the false positive. You might actually consider using the purchase size as the false positive loss, versus that constant for false negatives.\n",
    "\n",
    "We'll just stay plain vanilla unless the challenge specifically requires it to be addressed.\n"
   ]
  },
  {
   "cell_type": "code",
   "execution_count": 2,
   "id": "7cbd0659-36d8-4a51-a638-5b98ef84e3ae",
   "metadata": {},
   "outputs": [
    {
     "name": "stdout",
     "output_type": "stream",
     "text": [
      "root\n",
      " |-- source: string (nullable = true)\n",
      " |-- browser: string (nullable = true)\n",
      " |-- sex: string (nullable = true)\n",
      " |-- country: string (nullable = true)\n",
      " |-- purchase_tod: string (nullable = true)\n",
      " |-- purchase_size: integer (nullable = false)\n",
      " |-- age_bin: integer (nullable = false)\n",
      " |-- waited: integer (nullable = false)\n",
      " |-- class: integer (nullable = true)\n",
      "\n",
      "+------+-------+---+-------------+------------+-------------+-------+------+-----+\n",
      "|source|browser|sex|      country|purchase_tod|purchase_size|age_bin|waited|class|\n",
      "+------+-------+---+-------------+------------+-------------+-------+------+-----+\n",
      "|   SEO| Chrome|  M|        Japan|          02|            0|      1|     3|    0|\n",
      "|   Ads| Chrome|  F|United States|          01|            0|      1|     1|    0|\n",
      "|   SEO|  Opera|  M|United States|          18|            0|      1|     0|    1|\n",
      "|   Ads| Safari|  M|United States|          18|            0|      1|     3|    0|\n",
      "|   Ads| Chrome|  M|       Canada|          08|            1|      0|     3|    0|\n",
      "|   Ads|  Opera|  M|United States|          17|            0|      1|     3|    0|\n",
      "|   SEO|     IE|  F|        China|          14|            0|      1|     3|    0|\n",
      "|   Ads|     IE|  M|United States|          23|            2|      1|     3|    0|\n",
      "|   Ads| Safari|  F|United States|          21|            0|      1|     3|    0|\n",
      "|Direct| Safari|  M|       Brazil|          12|            1|      1|     3|    0|\n",
      "+------+-------+---+-------------+------------+-------------+-------+------+-----+\n",
      "only showing top 10 rows\n",
      "\n",
      "+-------+------+-------+------+-----------+------------------+------------------+-------------------+------------------+-------------------+\n",
      "|summary|source|browser|   sex|    country|      purchase_tod|     purchase_size|            age_bin|            waited|              class|\n",
      "+-------+------+-------+------+-----------+------------------+------------------+-------------------+------------------+-------------------+\n",
      "|  count|129146| 129146|129146|     129146|            129146|            129146|             129146|            129146|             129146|\n",
      "|   mean|  null|   null|  null|       null|11.507332786149009|0.5355721431558081| 0.9404007867065182|2.6049354993573166|0.09499326343827916|\n",
      "| stddev|  null|   null|  null|       null|6.9102427037492955|0.7235847625708703|0.23850335503754425|0.7453933485408983| 0.2932067683767653|\n",
      "|    min|   Ads| Chrome|     F|Afghanistan|                00|                 0|                  0|                 0|                  0|\n",
      "|    25%|  null|   null|  null|       null|               6.0|                 0|                  1|                 2|                  0|\n",
      "|    50%|  null|   null|  null|       null|              12.0|                 0|                  1|                 3|                  0|\n",
      "|    75%|  null|   null|  null|       null|              17.0|                 1|                  1|                 3|                  0|\n",
      "|    max|   SEO| Safari|     M|   Zimbabwe|                23|                 3|                  2|                 3|                  1|\n",
      "+-------+------+-------+------+-----------+------------------+------------------+-------------------+------------------+-------------------+\n",
      "\n"
     ]
    }
   ],
   "source": [
    "import math\n",
    "from pyspark.sql.functions import col, expr, when, substring, unix_timestamp\n",
    "transaction_df = transaction_df.withColumn('purchase_tod', substring(col('purchase_time'), 12, 2))\n",
    "transaction_df = transaction_df.withColumn('purchase_size', when(col('purchase_value').cast('int') < 40, 0).otherwise(when(col('purchase_value').cast('int') < 60, 1).otherwise(when(col('purchase_value').cast('int') < 90, 2).otherwise(3))))\n",
    "transaction_df = transaction_df.withColumn('age_bin', when(col('age').cast('int') < 21, 0).otherwise(when(col('age').cast('int') < 65, 1).otherwise(2)))\n",
    "transaction_df = transaction_df.withColumn('waited_seconds', (unix_timestamp(col('purchase_time')) - unix_timestamp(col('signup_time'))).cast('long'))\n",
    "transaction_df = transaction_df.withColumn('waited', when(col('waited_seconds').cast('int') < 60, 0).otherwise(when(col('waited_seconds').cast('int') < 3600*12, 1).otherwise(when(col('waited_seconds').cast('int') < 3600*24*30, 2).otherwise(3))))\n",
    "\n",
    "model_df = transaction_df.select('source', 'browser', 'sex', 'country', 'purchase_tod', 'purchase_size', 'age_bin', 'waited', 'class')\n",
    "model_df = model_df.where(\"source is not null and browser is not null and sex is not null and country is not null and purchase_tod is not null and waited is not null and class is not null\")\n",
    "\n",
    "model_df.printSchema()\n",
    "\n",
    "model_df.show(10)\n",
    "\n",
    "model_df.summary().show()\n"
   ]
  },
  {
   "cell_type": "raw",
   "id": "2f6ddd97-4ebc-4c15-ac34-457d30c9688a",
   "metadata": {},
   "source": [
    "I wanted to do a couple of things here. 1) I wanted to get purchase size down to something informative but minimal. Bucketing it into four levels seems helpful but not excessive, i.e. every interval dollar value between 1 and 100, as it appears, seems excessive. Actually that seems like it may have been pre-processed to be a percentile. But I'd do the same thing in that case anyway. 2) I wanted to get a purchase hour of day, that could help, even though it is not specific to any user locale time zone. 3) I wanted to get age down to something informative but minimal, like 'young', 'old', and other. 4) It seemed like the time span between the time they initially signed up, and the time they purchased something might be helpful. But I wanted something not excessively detailed. I created a 'seconds', or 'hours', or 'days', or 'months or more' categorical variable for the time they waited.\n",
    "\n",
    "Now, put it all into the hopper for the generic modeling approach. The best way I've seen, though this is the first time I've done it this way, is to use a pipeline, and put in a string indexer to transform just the string columns into numerical categories, a one-hot encoder to transform each categorical database column into a collection of zero or one indicator variables, and a vector assembler to make a single vector-valued field with the indicator variables in it, each constituting a feature."
   ]
  },
  {
   "cell_type": "code",
   "execution_count": 3,
   "id": "27b51358-0d5e-4c2c-93c6-874d81380019",
   "metadata": {},
   "outputs": [
    {
     "name": "stdout",
     "output_type": "stream",
     "text": [
      "root\n",
      " |-- source: string (nullable = true)\n",
      " |-- browser: string (nullable = true)\n",
      " |-- sex: string (nullable = true)\n",
      " |-- country: string (nullable = true)\n",
      " |-- purchase_tod: string (nullable = true)\n",
      " |-- purchase_size: string (nullable = false)\n",
      " |-- age_bin: string (nullable = false)\n",
      " |-- waited: string (nullable = false)\n",
      " |-- class: integer (nullable = true)\n",
      "\n",
      "+------+-------+---+-------------+------------+-------------+-------+-------+-----+\n",
      "|source|browser|sex|      country|purchase_tod|purchase_size|age_bin| waited|class|\n",
      "+------+-------+---+-------------+------------+-------------+-------+-------+-----+\n",
      "|   SEO| Chrome|  M|        Japan|          02|        small|  adult| months|    0|\n",
      "|   Ads| Chrome|  F|United States|          01|        small|  adult|   days|    0|\n",
      "|   SEO|  Opera|  M|United States|          18|        small|  adult|seconds|    1|\n",
      "|   Ads| Safari|  M|United States|          18|        small|  adult| months|    0|\n",
      "|   Ads| Chrome|  M|       Canada|          08|       medium|  youth| months|    0|\n",
      "|   Ads|  Opera|  M|United States|          17|        small|  adult| months|    0|\n",
      "|   SEO|     IE|  F|        China|          14|        small|  adult| months|    0|\n",
      "|   Ads|     IE|  M|United States|          23|        large|  adult| months|    0|\n",
      "|   Ads| Safari|  F|United States|          21|        small|  adult| months|    0|\n",
      "|Direct| Safari|  M|       Brazil|          12|       medium|  adult| months|    0|\n",
      "+------+-------+---+-------------+------------+-------------+-------+-------+-----+\n",
      "only showing top 10 rows\n",
      "\n"
     ]
    }
   ],
   "source": [
    "import math\n",
    "from pyspark.sql.functions import col, expr, when, substring, unix_timestamp\n",
    "transaction_df = transaction_df.withColumn('purchase_tod', substring(col('purchase_time'), 12, 2))\n",
    "transaction_df = transaction_df.withColumn('purchase_size', when(col('purchase_value').cast('int') < 40, 'small').otherwise(when(col('purchase_value').cast('int') < 60, 'medium').otherwise(when(col('purchase_value').cast('int') < 90, 'large').otherwise('max'))))\n",
    "transaction_df = transaction_df.withColumn('age_bin', when(col('age').cast('int') < 21, 'youth').otherwise(when(col('age').cast('int') < 65, 'adult').otherwise('elder')))\n",
    "transaction_df = transaction_df.withColumn('waited_seconds', (unix_timestamp(col('purchase_time')) - unix_timestamp(col('signup_time'))).cast('long'))\n",
    "transaction_df = transaction_df.withColumn('waited', when(col('waited_seconds').cast('int') < 60, 'seconds').otherwise(when(col('waited_seconds').cast('int') < 'hours', 1).otherwise(when(col('waited_seconds').cast('int') < 3600*24*30, 'days').otherwise('months'))))\n",
    "\n",
    "model_df = transaction_df.select('source', 'browser', 'sex', 'country', 'purchase_tod', 'purchase_size', 'age_bin', 'waited', 'class')\n",
    "model_df = model_df.where(\"source is not null and browser is not null and sex is not null and country is not null and purchase_tod is not null and waited is not null and class is not null\")\n",
    "\n",
    "model_df.printSchema()\n",
    "\n",
    "model_df.show(10)\n"
   ]
  },
  {
   "cell_type": "raw",
   "id": "4f2cc6b0-1fd0-40ef-8984-41cf9acca504",
   "metadata": {},
   "source": [
    "Coding these specifically explanatory variables as string labels will make the downstream processing easier. Now, we've selected the basic model data framework, and eliminated nulls. It's unclear how large this set is - this dataset seems to have few or none. And we've inspected the dataset, as a sanity check. Next, batch up the indexer and encoder transformations we'll do, and use a pipeline to add those to the data set. This is fairly costly - my own CUDA gpu set is currently in use, and cpu is fairly busy already. Hopefully you can wait, or have gpu support."
   ]
  },
  {
   "cell_type": "code",
   "execution_count": 4,
   "id": "ab0a4d54-54eb-445a-99c6-067700386b76",
   "metadata": {},
   "outputs": [
    {
     "name": "stdout",
     "output_type": "stream",
     "text": [
      "+------+-------+---+-------------+------------+-------------+-------+-------+-----+-----------+------------+--------+------------+-----------------+------------------+------------+-----------+---------+-------------+-------------+-------------+---------------+------------------+-------------------+-------------+-------------+---------------+\n",
      "|source|browser|sex|      country|purchase_tod|purchase_size|age_bin| waited|class|sourceIndex|browserIndex|sexIndex|countryIndex|purchase_todIndex|purchase_sizeIndex|age_binIndex|waitedIndex|objective| sourceVector|browserVector|    sexVector|  countryVector|purchase_todVector|purchase_sizeVector|age_binVector| waitedVector|objectiveVector|\n",
      "+------+-------+---+-------------+------------+-------------+-------+-------+-----+-----------+------------+--------+------------+-----------------+------------------+------------+-----------+---------+-------------+-------------+-------------+---------------+------------------+-------------------+-------------+-------------+---------------+\n",
      "|   SEO| Chrome|  M|        Japan|          02|        small|  adult| months|    0|        0.0|         0.0|     0.0|         2.0|              5.0|               0.0|         0.0|        0.0|      0.0|(2,[0],[1.0])|(4,[0],[1.0])|(1,[0],[1.0])|(180,[2],[1.0])|    (23,[5],[1.0])|      (3,[0],[1.0])|(2,[0],[1.0])|(2,[0],[1.0])|  (1,[0],[1.0])|\n",
      "|   Ads| Chrome|  F|United States|          01|        small|  adult|   days|    0|        1.0|         0.0|     1.0|         0.0|             18.0|               0.0|         0.0|        1.0|      0.0|(2,[1],[1.0])|(4,[0],[1.0])|    (1,[],[])|(180,[0],[1.0])|   (23,[18],[1.0])|      (3,[0],[1.0])|(2,[0],[1.0])|(2,[1],[1.0])|  (1,[0],[1.0])|\n",
      "|   SEO|  Opera|  M|United States|          18|        small|  adult|seconds|    1|        0.0|         4.0|     0.0|         0.0|             15.0|               0.0|         0.0|        2.0|      1.0|(2,[0],[1.0])|    (4,[],[])|(1,[0],[1.0])|(180,[0],[1.0])|   (23,[15],[1.0])|      (3,[0],[1.0])|(2,[0],[1.0])|    (2,[],[])|      (1,[],[])|\n",
      "|   Ads| Safari|  M|United States|          18|        small|  adult| months|    0|        1.0|         2.0|     0.0|         0.0|             15.0|               0.0|         0.0|        0.0|      0.0|(2,[1],[1.0])|(4,[2],[1.0])|(1,[0],[1.0])|(180,[0],[1.0])|   (23,[15],[1.0])|      (3,[0],[1.0])|(2,[0],[1.0])|(2,[0],[1.0])|  (1,[0],[1.0])|\n",
      "|   Ads| Chrome|  M|       Canada|          08|       medium|  youth| months|    0|        1.0|         0.0|     0.0|         7.0|              6.0|               1.0|         1.0|        0.0|      0.0|(2,[1],[1.0])|(4,[0],[1.0])|(1,[0],[1.0])|(180,[7],[1.0])|    (23,[6],[1.0])|      (3,[1],[1.0])|(2,[1],[1.0])|(2,[0],[1.0])|  (1,[0],[1.0])|\n",
      "|   Ads|  Opera|  M|United States|          17|        small|  adult| months|    0|        1.0|         4.0|     0.0|         0.0|              2.0|               0.0|         0.0|        0.0|      0.0|(2,[1],[1.0])|    (4,[],[])|(1,[0],[1.0])|(180,[0],[1.0])|    (23,[2],[1.0])|      (3,[0],[1.0])|(2,[0],[1.0])|(2,[0],[1.0])|  (1,[0],[1.0])|\n",
      "|   SEO|     IE|  F|        China|          14|        small|  adult| months|    0|        0.0|         1.0|     1.0|         1.0|              4.0|               0.0|         0.0|        0.0|      0.0|(2,[0],[1.0])|(4,[1],[1.0])|    (1,[],[])|(180,[1],[1.0])|    (23,[4],[1.0])|      (3,[0],[1.0])|(2,[0],[1.0])|(2,[0],[1.0])|  (1,[0],[1.0])|\n",
      "|   Ads|     IE|  M|United States|          23|        large|  adult| months|    0|        1.0|         1.0|     0.0|         0.0|             14.0|               2.0|         0.0|        0.0|      0.0|(2,[1],[1.0])|(4,[1],[1.0])|(1,[0],[1.0])|(180,[0],[1.0])|   (23,[14],[1.0])|      (3,[2],[1.0])|(2,[0],[1.0])|(2,[0],[1.0])|  (1,[0],[1.0])|\n",
      "|   Ads| Safari|  F|United States|          21|        small|  adult| months|    0|        1.0|         2.0|     1.0|         0.0|             16.0|               0.0|         0.0|        0.0|      0.0|(2,[1],[1.0])|(4,[2],[1.0])|    (1,[],[])|(180,[0],[1.0])|   (23,[16],[1.0])|      (3,[0],[1.0])|(2,[0],[1.0])|(2,[0],[1.0])|  (1,[0],[1.0])|\n",
      "|Direct| Safari|  M|       Brazil|          12|       medium|  adult| months|    0|        2.0|         2.0|     0.0|         8.0|             10.0|               1.0|         0.0|        0.0|      0.0|    (2,[],[])|(4,[2],[1.0])|(1,[0],[1.0])|(180,[8],[1.0])|   (23,[10],[1.0])|      (3,[1],[1.0])|(2,[0],[1.0])|(2,[0],[1.0])|  (1,[0],[1.0])|\n",
      "+------+-------+---+-------------+------------+-------------+-------+-------+-----+-----------+------------+--------+------------+-----------------+------------------+------------+-----------+---------+-------------+-------------+-------------+---------------+------------------+-------------------+-------------+-------------+---------------+\n",
      "only showing top 10 rows\n",
      "\n",
      "+-------------+-------------+-------------+---------------+------------------+-------------------+-------------+-------------+---------+\n",
      "| sourceVector|browserVector|    sexVector|  countryVector|purchase_todVector|purchase_sizeVector|age_binVector| waitedVector|objective|\n",
      "+-------------+-------------+-------------+---------------+------------------+-------------------+-------------+-------------+---------+\n",
      "|(2,[0],[1.0])|(4,[0],[1.0])|(1,[0],[1.0])|(180,[2],[1.0])|    (23,[5],[1.0])|      (3,[0],[1.0])|(2,[0],[1.0])|(2,[0],[1.0])|      0.0|\n",
      "|(2,[1],[1.0])|(4,[0],[1.0])|    (1,[],[])|(180,[0],[1.0])|   (23,[18],[1.0])|      (3,[0],[1.0])|(2,[0],[1.0])|(2,[1],[1.0])|      0.0|\n",
      "|(2,[0],[1.0])|    (4,[],[])|(1,[0],[1.0])|(180,[0],[1.0])|   (23,[15],[1.0])|      (3,[0],[1.0])|(2,[0],[1.0])|    (2,[],[])|      1.0|\n",
      "|(2,[1],[1.0])|(4,[2],[1.0])|(1,[0],[1.0])|(180,[0],[1.0])|   (23,[15],[1.0])|      (3,[0],[1.0])|(2,[0],[1.0])|(2,[0],[1.0])|      0.0|\n",
      "|(2,[1],[1.0])|(4,[0],[1.0])|(1,[0],[1.0])|(180,[7],[1.0])|    (23,[6],[1.0])|      (3,[1],[1.0])|(2,[1],[1.0])|(2,[0],[1.0])|      0.0|\n",
      "|(2,[1],[1.0])|    (4,[],[])|(1,[0],[1.0])|(180,[0],[1.0])|    (23,[2],[1.0])|      (3,[0],[1.0])|(2,[0],[1.0])|(2,[0],[1.0])|      0.0|\n",
      "|(2,[0],[1.0])|(4,[1],[1.0])|    (1,[],[])|(180,[1],[1.0])|    (23,[4],[1.0])|      (3,[0],[1.0])|(2,[0],[1.0])|(2,[0],[1.0])|      0.0|\n",
      "|(2,[1],[1.0])|(4,[1],[1.0])|(1,[0],[1.0])|(180,[0],[1.0])|   (23,[14],[1.0])|      (3,[2],[1.0])|(2,[0],[1.0])|(2,[0],[1.0])|      0.0|\n",
      "|(2,[1],[1.0])|(4,[2],[1.0])|    (1,[],[])|(180,[0],[1.0])|   (23,[16],[1.0])|      (3,[0],[1.0])|(2,[0],[1.0])|(2,[0],[1.0])|      0.0|\n",
      "|    (2,[],[])|(4,[2],[1.0])|(1,[0],[1.0])|(180,[8],[1.0])|   (23,[10],[1.0])|      (3,[1],[1.0])|(2,[0],[1.0])|(2,[0],[1.0])|      0.0|\n",
      "+-------------+-------------+-------------+---------------+------------------+-------------------+-------------+-------------+---------+\n",
      "only showing top 10 rows\n",
      "\n"
     ]
    }
   ],
   "source": [
    "from pyspark.ml import Pipeline\n",
    "from pyspark.ml.feature import StringIndexer\n",
    "from pyspark.ml.feature import OneHotEncoder, OneHotEncoderModel\n",
    "\n",
    "# just in case.  should all be categorical\n",
    "categoricalColumns = [item[0] for item in model_df.dtypes if item[1].startswith('string')]\n",
    "# iterate through them\n",
    "stage_string = [StringIndexer(inputCol= c, outputCol = c + 'Index') for c in categoricalColumns] + [StringIndexer(inputCol='class', outputCol = 'objective')]\n",
    "stage_encoder = [OneHotEncoder(inputCol= c+'Index', outputCol= c+'Vector') for c in categoricalColumns] + [OneHotEncoder(inputCol='objective', outputCol = 'objectiveVector')]\n",
    "transform_pipeline = Pipeline(stages = stage_string + stage_encoder)\n",
    "pm = transform_pipeline.fit(model_df)\n",
    "new_model_df = pm.transform(model_df)\n",
    "\n",
    "new_model_df.show(10)\n",
    "\n",
    "model_df = new_model_df.select('sourceVector', 'browserVector', 'sexVector', 'countryVector', 'purchase_todVector', 'purchase_sizeVector', 'age_binVector', 'waitedVector', 'objective')\n",
    "\n",
    "model_df.show(10)\n"
   ]
  },
  {
   "cell_type": "raw",
   "id": "ae7a7084-b9b0-4aa7-931a-228743c377e2",
   "metadata": {},
   "source": [
    "Now we grab the columns that were encoded, creating a new dataset of just those, and assemble them into the input data we will feed into the classifier model. "
   ]
  },
  {
   "cell_type": "code",
   "execution_count": 11,
   "id": "29420c82-e601-45b3-8169-ebf3ab937399",
   "metadata": {},
   "outputs": [
    {
     "name": "stdout",
     "output_type": "stream",
     "text": [
      "+-------------+-------------+-------------+---------------+------------------+-------------------+-------------+-------------+---------+--------------------+\n",
      "| sourceVector|browserVector|    sexVector|  countryVector|purchase_todVector|purchase_sizeVector|age_binVector| waitedVector|objective|            features|\n",
      "+-------------+-------------+-------------+---------------+------------------+-------------------+-------------+-------------+---------+--------------------+\n",
      "|(2,[0],[1.0])|(4,[0],[1.0])|(1,[0],[1.0])|(180,[2],[1.0])|    (23,[5],[1.0])|      (3,[0],[1.0])|(2,[0],[1.0])|(2,[0],[1.0])|      0.0|(217,[0,2,6,9,192...|\n",
      "|(2,[1],[1.0])|(4,[0],[1.0])|    (1,[],[])|(180,[0],[1.0])|   (23,[18],[1.0])|      (3,[0],[1.0])|(2,[0],[1.0])|(2,[1],[1.0])|      0.0|(217,[1,2,7,205,2...|\n",
      "|(2,[0],[1.0])|    (4,[],[])|(1,[0],[1.0])|(180,[0],[1.0])|   (23,[15],[1.0])|      (3,[0],[1.0])|(2,[0],[1.0])|    (2,[],[])|      1.0|(217,[0,6,7,202,2...|\n",
      "|(2,[1],[1.0])|(4,[2],[1.0])|(1,[0],[1.0])|(180,[0],[1.0])|   (23,[15],[1.0])|      (3,[0],[1.0])|(2,[0],[1.0])|(2,[0],[1.0])|      0.0|(217,[1,4,6,7,202...|\n",
      "|(2,[1],[1.0])|(4,[0],[1.0])|(1,[0],[1.0])|(180,[7],[1.0])|    (23,[6],[1.0])|      (3,[1],[1.0])|(2,[1],[1.0])|(2,[0],[1.0])|      0.0|(217,[1,2,6,14,19...|\n",
      "|(2,[1],[1.0])|    (4,[],[])|(1,[0],[1.0])|(180,[0],[1.0])|    (23,[2],[1.0])|      (3,[0],[1.0])|(2,[0],[1.0])|(2,[0],[1.0])|      0.0|(217,[1,6,7,189,2...|\n",
      "|(2,[0],[1.0])|(4,[1],[1.0])|    (1,[],[])|(180,[1],[1.0])|    (23,[4],[1.0])|      (3,[0],[1.0])|(2,[0],[1.0])|(2,[0],[1.0])|      0.0|(217,[0,3,8,191,2...|\n",
      "|(2,[1],[1.0])|(4,[1],[1.0])|(1,[0],[1.0])|(180,[0],[1.0])|   (23,[14],[1.0])|      (3,[2],[1.0])|(2,[0],[1.0])|(2,[0],[1.0])|      0.0|(217,[1,3,6,7,201...|\n",
      "|(2,[1],[1.0])|(4,[2],[1.0])|    (1,[],[])|(180,[0],[1.0])|   (23,[16],[1.0])|      (3,[0],[1.0])|(2,[0],[1.0])|(2,[0],[1.0])|      0.0|(217,[1,4,7,203,2...|\n",
      "|    (2,[],[])|(4,[2],[1.0])|(1,[0],[1.0])|(180,[8],[1.0])|   (23,[10],[1.0])|      (3,[1],[1.0])|(2,[0],[1.0])|(2,[0],[1.0])|      0.0|(217,[4,6,15,197,...|\n",
      "+-------------+-------------+-------------+---------------+------------------+-------------------+-------------+-------------+---------+--------------------+\n",
      "only showing top 10 rows\n",
      "\n"
     ]
    }
   ],
   "source": [
    "from pyspark.ml.linalg import Vectors\n",
    "from pyspark.ml.feature import VectorAssembler\n",
    "\n",
    "assembler = VectorAssembler(inputCols = ['sourceVector', 'browserVector', 'sexVector', 'countryVector', 'purchase_todVector', 'purchase_sizeVector', 'age_binVector', 'waitedVector'], outputCol = 'features')\n",
    "\n",
    "output = assembler.transform(model_df)\n",
    "\n",
    "output.show(10)\n",
    "\n",
    "train_data,test_data = output.randomSplit([0.7,0.3])\n"
   ]
  },
  {
   "cell_type": "raw",
   "id": "b8427987-1025-4ba6-9238-84a16b24ec60",
   "metadata": {},
   "source": [
    "That wraps up the basic data pipeline. Now we can start to estimate and evaluate some models. \n",
    "\n",
    "Start with the basic Logistic Regression model you learned about back in applied statistics, in school. Pick Decision Tree for its basic applicability to the fraud detection problem, as a binary decision, and GBT, for no particular reason, except to see some variety in the predictive characteristics. You could also do Random Forest, but that tends to be sensitive to hyperparameters and assumptions. It requires some time and exploration to get it right.\n"
   ]
  },
  {
   "cell_type": "code",
   "execution_count": 12,
   "id": "384439d6-e362-4efe-80ff-0b1e1453f1d3",
   "metadata": {},
   "outputs": [],
   "source": [
    "from pyspark.ml.classification import (LogisticRegression, GBTClassifier, DecisionTreeClassifier)\n",
    "from pyspark.ml.evaluation import BinaryClassificationEvaluator\n",
    "import matplotlib.pyplot as plt\n",
    "\n",
    "lrc = LogisticRegression(featuresCol = 'features', labelCol = 'objective', maxIter=10)\n",
    "dtc = DecisionTreeClassifier(featuresCol='features', labelCol='objective')\n",
    "gbtc = GBTClassifier(featuresCol='features', labelCol='objective', maxIter=30)\n",
    "\n",
    "lrc_model = lrc.fit(train_data)\n",
    "dtc_model = dtc.fit(train_data)\n",
    "gbtc_model = gbtc.fit(train_data)\n"
   ]
  },
  {
   "cell_type": "raw",
   "id": "c63c5634-8f06-40bd-b7ba-30a5ec50d006",
   "metadata": {},
   "source": [
    "Then examine the models for fitness, and for the profile of false positives versus false negatives. First the logistic regression model."
   ]
  },
  {
   "cell_type": "code",
   "execution_count": 13,
   "id": "91575002-b85d-4312-8c07-21881d40c09b",
   "metadata": {},
   "outputs": [
    {
     "name": "stdout",
     "output_type": "stream",
     "text": [
      "Multinomial coefficients: DenseMatrix([[ 1.79986794e-02,  5.32442510e-02,  5.33194105e-01,\n",
      "               5.43558962e-01,  5.79740425e-01,  5.29567196e-01,\n",
      "               4.64278846e-02,  5.69865153e-01,  6.09657227e-01,\n",
      "               5.59470054e-01,  6.30619529e-01,  5.06956087e-01,\n",
      "               5.18313339e-01,  5.52446719e-01,  4.96472520e-01,\n",
      "               5.32044306e-01,  7.13563843e-01,  5.59691821e-01,\n",
      "               6.05572533e-01,  8.35536989e-01,  1.93042806e-01,\n",
      "               7.06003204e-01,  3.45960171e-01,  5.88348346e-01,\n",
      "               4.02365421e-01,  7.46264938e-01,  6.19898691e-01,\n",
      "               9.82982377e-01,  7.52549741e-01,  2.04742988e-01,\n",
      "               7.90895862e-01,  4.11895397e-01,  2.72989020e-01,\n",
      "               6.33006291e-01, -4.98776246e-02,  4.45823753e-01,\n",
      "               9.14066350e-01,  5.60162816e-01,  2.43068835e-01,\n",
      "               4.34653705e-01,  6.31873623e-01,  1.14415241e+00,\n",
      "               6.47304390e-01,  5.77825540e-01,  4.96675845e-01,\n",
      "               3.21640141e-01,  1.05899810e+00,  3.59577665e-01,\n",
      "               3.23694330e-01, -7.58201388e-02, -1.79061610e-02,\n",
      "              -2.92332985e-01,  8.92957224e-01, -2.74192189e-01,\n",
      "               2.36776376e-01,  1.00971031e+00, -2.97647029e-01,\n",
      "               7.83104968e-01,  7.71494818e-01, -2.36212057e+00,\n",
      "              -1.57810545e+00,  1.39089247e+00,  5.94381140e-01,\n",
      "              -4.38673247e-01, -2.76871647e-01, -5.91846294e-02,\n",
      "               5.11640416e-01, -2.64141775e-01, -9.51037755e-01,\n",
      "               1.40017179e+00, -3.91949922e-01,  5.75013328e-01,\n",
      "              -6.80867566e-01, -8.99477414e-01,  7.66544492e-01,\n",
      "               1.37939361e+00, -1.35023169e-01, -1.48380289e-01,\n",
      "              -4.58786769e+00, -4.71135460e+00,  1.29850196e+00,\n",
      "              -1.70647859e+00,  1.27528247e+00,  1.00963694e+00,\n",
      "               9.33823487e-01, -5.37346281e-01, -4.68026700e+00,\n",
      "              -3.71955676e-02, -4.69300129e-01,  1.64768837e+00,\n",
      "               6.33655294e-01, -3.82414913e-01, -4.53295040e+00,\n",
      "              -4.54235264e+00, -4.82136005e+00,  1.01838528e+00,\n",
      "               1.56500707e+00, -4.72386519e+00,  1.22557259e+00,\n",
      "               1.21762387e+00,  1.30306648e+00, -4.48028696e+00,\n",
      "               1.42800725e+00, -4.83058477e-01,  1.83407542e+00,\n",
      "               1.79686009e+00,  1.50477022e+00, -4.63785299e+00,\n",
      "               1.73620811e+00, -4.60301660e+00, -4.70135746e+00,\n",
      "              -4.50866383e+00, -4.66502160e+00,  1.74176402e+00,\n",
      "              -4.63017317e+00,  2.54638436e+00, -4.68716897e+00,\n",
      "              -4.43968328e+00, -4.71047434e+00, -4.50600371e+00,\n",
      "               1.29367654e+00, -4.65979340e+00, -4.55323887e+00,\n",
      "              -4.78182977e+00, -4.61666050e+00, -4.67471895e+00,\n",
      "              -4.66400199e+00, -4.75592579e+00, -4.50992852e+00,\n",
      "              -4.65092358e+00,  1.61786420e+00,  1.44860041e+00,\n",
      "              -4.57286766e+00, -4.46146828e+00, -4.59810546e+00,\n",
      "              -4.46904770e+00,  1.69457666e+00,  1.90675681e+00,\n",
      "               2.13836085e+00,  2.19514412e+00, -4.79442316e+00,\n",
      "              -4.41631942e+00, -4.44455880e+00, -4.49900355e+00,\n",
      "              -4.50672014e+00, -4.46182874e+00, -4.53089558e+00,\n",
      "              -4.53239637e+00, -4.45417668e+00, -4.42805664e+00,\n",
      "              -4.87291549e+00, -4.81040783e+00, -4.44279527e+00,\n",
      "              -4.31070544e+00, -4.88956902e+00, -4.43330148e+00,\n",
      "              -4.63706887e+00, -4.37377198e+00, -4.50467927e+00,\n",
      "               3.39657968e+00,  0.00000000e+00,  0.00000000e+00,\n",
      "              -4.39193664e+00, -4.79681698e+00, -4.95440604e+00,\n",
      "              -4.49791150e+00, -4.44502091e+00, -4.40995421e+00,\n",
      "               0.00000000e+00, -5.17243164e+00, -4.48838417e+00,\n",
      "              -4.55236091e+00, -4.43098457e+00, -4.45790690e+00,\n",
      "              -4.41686035e+00, -4.43624807e+00, -5.06283296e+00,\n",
      "              -4.50619797e+00, -4.38661588e+00, -5.04184512e+00,\n",
      "              -4.98531171e+00,  0.00000000e+00,  0.00000000e+00,\n",
      "              -4.39758303e+00,  0.00000000e+00,  4.02758513e+01,\n",
      "              -4.64711848e+00,  3.61295152e-01,  2.02939686e-01,\n",
      "               3.02432609e-01,  5.53408135e-01,  4.04665153e-01,\n",
      "               3.93077283e-01,  4.95246778e-01,  3.40316970e-01,\n",
      "               3.58954115e-01,  4.10920224e-01,  2.69756653e-01,\n",
      "               3.32403238e-01,  4.11675037e-01,  4.81985095e-01,\n",
      "               3.62591003e-01,  3.66834702e-01,  5.19376131e-01,\n",
      "               5.86386803e-01,  5.35071060e-01,  4.39290822e-01,\n",
      "               3.87352810e-01,  5.24849355e-01,  2.98326277e-01,\n",
      "               7.01679783e-01,  7.12868191e-01,  7.14985019e-01,\n",
      "               3.46970591e+00,  3.51088677e+00, -6.87318861e+00,\n",
      "              -7.10844550e+00]])\n",
      "Logistic model training set areaUnderROC: 0.7871680126779218\n"
     ]
    },
    {
     "data": {
      "image/png": "[encoded data removed]",
      "text/plain": [
       "<Figure size 432x288 with 1 Axes>"
      ]
     },
     "metadata": {
      "needs_background": "light"
     },
     "output_type": "display_data"
    },
    {
     "data": {
      "image/png": "[encoded data removed]",
      "text/plain": [
       "<Figure size 432x288 with 1 Axes>"
      ]
     },
     "metadata": {
      "needs_background": "light"
     },
     "output_type": "display_data"
    }
   ],
   "source": [
    "print(\"Multinomial coefficients:\", lrc_model.coefficientMatrix)\n",
    "lrc_summary = lrc_model.summary\n",
    "print('Logistic model training set areaUnderROC: ' + str(lrc_summary.areaUnderROC))\n",
    "\n",
    "roc = lrc_summary.roc.toPandas()\n",
    "plt.plot(roc['FPR'],roc['TPR'])\n",
    "plt.ylabel('False Positive Rate')\n",
    "plt.xlabel('True Positive Rate')\n",
    "plt.title('Logistic Regression ROC Curve')\n",
    "plt.show()\n",
    "\n",
    "pr = lrc_summary.pr.toPandas()\n",
    "plt.plot(pr['recall'],pr['precision'])\n",
    "plt.ylabel('Precision')\n",
    "plt.xlabel('Recall')\n",
    "plt.title('Logistic Regression Precision Recall Curve')\n",
    "plt.show()\n"
   ]
  },
  {
   "cell_type": "raw",
   "id": "e84f721a-5e56-4ced-985e-020e1fd1bca1",
   "metadata": {},
   "source": [
    "Unfortunately the pyspark DecisionTree model doesn't have a summary member. But sklearn has some functions that can calculate the curves.\n",
    "\n",
    "It appears from the feature importance that the amount of time waited between signup and ordering is the single most important feature, but browser versus a couple of dodgy-looking countries of the party involved seem to be collectively important as well.\n"
   ]
  },
  {
   "cell_type": "code",
   "execution_count": 14,
   "id": "d99e0948-4a74-4360-9d43-856a6c759add",
   "metadata": {},
   "outputs": [
    {
     "name": "stdout",
     "output_type": "stream",
     "text": [
      "(217,[0,2,41,108,159,185,202,215,216],[0.00012356641809506264,0.00016475522412675022,0.00010903689855483372,0.00010229779635598459,0.0002253418263669991,0.00022490295591592977,0.00034201614046435304,0.13335896004976466,0.8653491226903555])\n",
      "+------------+-------------+---------+---------------+------------------+-------------------+-------------+-------------+---------+--------------------+----------------+--------------------+----------+\n",
      "|sourceVector|browserVector|sexVector|  countryVector|purchase_todVector|purchase_sizeVector|age_binVector| waitedVector|objective|            features|   rawPrediction|         probability|prediction|\n",
      "+------------+-------------+---------+---------------+------------------+-------------------+-------------+-------------+---------+--------------------+----------------+--------------------+----------+\n",
      "|   (2,[],[])|    (4,[],[])|(1,[],[])|(180,[0],[1.0])|    (23,[6],[1.0])|      (3,[0],[1.0])|(2,[0],[1.0])|(2,[0],[1.0])|      0.0|(217,[7,193,210,2...|[61162.0,2941.0]|[0.95412071197915...|       0.0|\n",
      "|   (2,[],[])|    (4,[],[])|(1,[],[])|(180,[0],[1.0])|   (23,[14],[1.0])|      (3,[2],[1.0])|(2,[0],[1.0])|(2,[1],[1.0])|      0.0|(217,[7,201,212,2...| [20418.0,963.0]|[0.95496001122491...|       0.0|\n",
      "|   (2,[],[])|    (4,[],[])|(1,[],[])|(180,[0],[1.0])|   (23,[21],[1.0])|      (3,[0],[1.0])|(2,[1],[1.0])|(2,[0],[1.0])|      1.0|(217,[7,208,210,2...|[61162.0,2941.0]|[0.95412071197915...|       0.0|\n",
      "|   (2,[],[])|    (4,[],[])|(1,[],[])|(180,[1],[1.0])|    (23,[7],[1.0])|      (3,[1],[1.0])|(2,[1],[1.0])|(2,[0],[1.0])|      0.0|(217,[8,194,211,2...|[61162.0,2941.0]|[0.95412071197915...|       0.0|\n",
      "|   (2,[],[])|    (4,[],[])|(1,[],[])|(180,[1],[1.0])|   (23,[17],[1.0])|      (3,[0],[1.0])|(2,[0],[1.0])|(2,[1],[1.0])|      0.0|(217,[8,204,210,2...| [20418.0,963.0]|[0.95496001122491...|       0.0|\n",
      "|   (2,[],[])|    (4,[],[])|(1,[],[])|(180,[1],[1.0])|   (23,[19],[1.0])|      (3,[0],[1.0])|(2,[0],[1.0])|(2,[0],[1.0])|      0.0|(217,[8,206,210,2...|[61162.0,2941.0]|[0.95412071197915...|       0.0|\n",
      "|   (2,[],[])|    (4,[],[])|(1,[],[])|(180,[2],[1.0])|    (23,[8],[1.0])|      (3,[1],[1.0])|(2,[1],[1.0])|(2,[0],[1.0])|      0.0|(217,[9,195,211,2...|[61162.0,2941.0]|[0.95412071197915...|       0.0|\n",
      "|   (2,[],[])|    (4,[],[])|(1,[],[])|(180,[3],[1.0])|   (23,[20],[1.0])|      (3,[0],[1.0])|(2,[0],[1.0])|(2,[0],[1.0])|      1.0|(217,[10,207,210,...|[61162.0,2941.0]|[0.95412071197915...|       0.0|\n",
      "|   (2,[],[])|    (4,[],[])|(1,[],[])|(180,[4],[1.0])|    (23,[6],[1.0])|      (3,[0],[1.0])|(2,[0],[1.0])|(2,[0],[1.0])|      0.0|(217,[11,193,210,...|[61162.0,2941.0]|[0.95412071197915...|       0.0|\n",
      "|   (2,[],[])|    (4,[],[])|(1,[],[])|(180,[6],[1.0])|   (23,[11],[1.0])|      (3,[0],[1.0])|(2,[1],[1.0])|(2,[1],[1.0])|      0.0|(217,[13,198,210,...| [20418.0,963.0]|[0.95496001122491...|       0.0|\n",
      "+------------+-------------+---------+---------------+------------------+-------------------+-------------+-------------+---------+--------------------+----------------+--------------------+----------+\n",
      "only showing top 10 rows\n",
      "\n"
     ]
    },
    {
     "data": {
      "image/png": "[encoded data removed]",
      "text/plain": [
       "<Figure size 432x288 with 1 Axes>"
      ]
     },
     "metadata": {
      "needs_background": "light"
     },
     "output_type": "display_data"
    },
    {
     "data": {
      "image/png": "[encoded data removed]",
      "text/plain": [
       "<Figure size 432x288 with 1 Axes>"
      ]
     },
     "metadata": {
      "needs_background": "light"
     },
     "output_type": "display_data"
    },
    {
     "name": "stdout",
     "output_type": "stream",
     "text": [
      " idx                                name    score\n",
      " 216                   waitedVector_days 0.865349\n",
      " 215                 waitedVector_months 0.133359\n",
      " 202               purchase_todVector_18 0.000342\n",
      " 159 countryVector_Virgin Islands (U.S.) 0.000225\n",
      " 185          countryVector_Turkmenistan 0.000225\n",
      "   2                browserVector_Chrome 0.000165\n",
      "   0                    sourceVector_SEO 0.000124\n",
      "  41               countryVector_Belgium 0.000109\n",
      " 108               countryVector_Iceland 0.000102\n",
      " 140              countryVector_Mongolia 0.000000\n"
     ]
    }
   ],
   "source": [
    "from sklearn.metrics import roc_curve, precision_recall_curve\n",
    "import pandas as pd;\n",
    "print(dtc_model.featureImportances)\n",
    "dt_predictions = dtc_model.transform(test_data)\n",
    "dt_predictions.show(10)\n",
    "\n",
    "label_obj = [float(row['objective']) for row in dt_predictions.select('objective','prediction').collect()]\n",
    "prediction = [float(row['prediction']) for row in dt_predictions.select('objective','prediction').collect()]\n",
    "roc = roc_curve(label_obj,prediction)\n",
    "plt.plot(roc[0],roc[1])\n",
    "plt.ylabel('False Positive Rate')\n",
    "plt.xlabel('True Positive Rate')\n",
    "plt.title('Decision Tree ROC Curve')\n",
    "plt.show()\n",
    "\n",
    "pr = precision_recall_curve(label_obj,prediction)\n",
    "plt.plot(pr[0],pr[1])\n",
    "plt.ylabel('False Positive Rate')\n",
    "plt.xlabel('True Positive Rate')\n",
    "plt.title('Decision Tree Precision Recall Curve')\n",
    "plt.show()\n",
    "\n",
    "# a display shortcut I found online\n",
    "def ExtractFeatureImportance(featureImp, dataset, featuresCol):\n",
    "    list_extract = []\n",
    "    for i in dataset.schema[featuresCol].metadata[\"ml_attr\"][\"attrs\"]:\n",
    "        list_extract = list_extract + dataset.schema[featuresCol].metadata[\"ml_attr\"][\"attrs\"][i]\n",
    "    varlist = pd.DataFrame(list_extract)\n",
    "    varlist['score'] = varlist['idx'].apply(lambda x: featureImp[x])\n",
    "    return (varlist.sort_values('score', ascending=False))\n",
    "\n",
    "dataset_fi = ExtractFeatureImportance(dtc_model.featureImportances, dt_predictions, \"features\")\n",
    "print(dataset_fi.head(10).to_string(index=False))\n"
   ]
  },
  {
   "cell_type": "raw",
   "id": "fbcbf3e1-19d3-4bb3-b7f6-185f336f2eec",
   "metadata": {},
   "source": [
    "The GBT (gradient boosted tree) model seems to confirm the same importances of wait time to purchase, identifies a few countries, and source SEO. GBT sees wait time from signup to purchase being the most significant, but instead chooses a combination of source, browser, and age bin, and calls out a few time of day buckets as risky.\n",
    "\n",
    "All three models, logistic regression, decision tree, and GBT had approximately the same false-positive versus false-negative resolution, judging from the ROC and precision/recall curves. To tune this, you might have to engage in some hyperparameter tuning.\n"
   ]
  },
  {
   "cell_type": "code",
   "execution_count": 15,
   "id": "ec59b11f-325a-49b5-9531-ece51cb02f19",
   "metadata": {},
   "outputs": [
    {
     "data": {
      "image/png": "[encoded data removed]",
      "text/plain": [
       "<Figure size 432x288 with 1 Axes>"
      ]
     },
     "metadata": {
      "needs_background": "light"
     },
     "output_type": "display_data"
    },
    {
     "data": {
      "image/png": "[encoded data removed]",
      "text/plain": [
       "<Figure size 432x288 with 1 Axes>"
      ]
     },
     "metadata": {
      "needs_background": "light"
     },
     "output_type": "display_data"
    },
    {
     "name": "stdout",
     "output_type": "stream",
     "text": [
      " idx                  name    score\n",
      " 216     waitedVector_days 0.818718\n",
      " 215   waitedVector_months 0.124234\n",
      "   0      sourceVector_SEO 0.004507\n",
      "   3      browserVector_IE 0.004043\n",
      "   1      sourceVector_Ads 0.003590\n",
      "   2  browserVector_Chrome 0.003163\n",
      "   6           sexVector_M 0.002840\n",
      " 200 purchase_todVector_13 0.002439\n",
      "  34 countryVector_Romania 0.001698\n",
      "   4  browserVector_Safari 0.001527\n",
      "\n"
     ]
    }
   ],
   "source": [
    "gbt_predictions = gbtc_model.transform(test_data)\n",
    "label_obj = [float(row['objective']) for row in gbt_predictions.select('objective','prediction').collect()]\n",
    "prediction = [float(row['prediction']) for row in gbt_predictions.select('objective','prediction').collect()]\n",
    "roc = roc_curve(label_obj,prediction)\n",
    "plt.plot(roc[0],roc[1])\n",
    "plt.ylabel('False Positive Rate')\n",
    "plt.xlabel('True Positive Rate')\n",
    "plt.title('GBT ROC Curve')\n",
    "plt.show()\n",
    "\n",
    "pr = precision_recall_curve(label_obj,prediction)\n",
    "plt.plot(pr[0],pr[1])\n",
    "plt.ylabel('False Positive Rate')\n",
    "plt.xlabel('True Positive Rate')\n",
    "plt.title('GBT Precision Recall Curve')\n",
    "plt.show()\n",
    "\n",
    "dataset_fi = ExtractFeatureImportance(gbtc_model.featureImportances, gbt_predictions, \"features\")\n",
    "print(dataset_fi.head(10).to_string(index=False))\n",
    "\n",
    "print()\n"
   ]
  },
  {
   "cell_type": "raw",
   "id": "5c159bfb-0691-4f80-9db8-6f764c69b697",
   "metadata": {},
   "source": [
    "Here is where we would wrap up question 2, by choosing a classifier that seems to optimize for minimal false negatives, or for whatever the cost profile might be, between false positives and false negatives. Logistic regression gets an ROC area of just under 80%, which is borderline good, but not as good in classification power as I'd like. The general indication that the amount of time waited between initial sign up and first purchase was significant seems surprising. I'd want to shake down that conclusion with a more balanced definition for wait time feature - possibly it's driven by immediate signup and purchase transactions. Age and country also seem to be strong explainers of fraudulent transactions.\n",
    "\n",
    "The decision tree model shows a similar quick initial explanation by picking off a few features, then a much harder time improving explanatory power afterward, with the rest of the features. Importances specifically call out wait time, again, countries Armenia and Georgia, source either SEO or Ads, and mid-aged customers. Again, the age bucketing I proposed (assuming I'd pick off youthful criminals) may have skewed this due to unbalanced age category counts, i.e. very few youths or agred, and many in the mid-age \"adult\" category. \n",
    "\n",
    "Given plenty of time, I'd move the cutpoint for \"youth\" from 20 up to maybe 25, and re-run the exact same analysis. Then I'd try the same thing with the wait time. Some tuning with the GBT model might be in order, due to its generally unremarkable fit. \n",
    "\n",
    "GBT seems to pick a different assortment of second-order features as having more importance, ones like browser, source, and customer age, but it did put  the wait time at the top of the list, just like the other two models. That seems to be pretty consistent and merits a closer look.\n"
   ]
  },
  {
   "cell_type": "raw",
   "id": "dbe25c6b-de30-4d39-9839-ae609cf121cf",
   "metadata": {},
   "source": [
    "3) Your boss is a bit worried about using a model she doesn't understand for something as important as fraud detection. How would you explain her how the model is making the predictions? Not from a mathematical perspective (she couldn't care less about that), but from a user perspective. What kinds of users are more likely to be classified as at risk? What are their characteristics?\n",
    "\n",
    "\n",
    "\n",
    "Basically, for a non-numerate person, or a numerate person with no exposure to statistical models, I'd explain that these models try to make categories of everything, and count up observations that correspond to observed fraud instances. Then, it uses those counts to estimate for a new observation, whether it should be classified as a false (not fraudulent) or a true (fraudulent). We sift through such models to find one that measures up as resilient and non-coincidental in nature.\n",
    "\n",
    "For a more numerate person with some knowledge of statistical modeling, I'd explain that the logistic regression model is a statistical logistic regression of the categorical dummy explanatory variables, versus the categorical variable indicating fraudulent behavior. The other models, the decision tree model and GBT model, are tree classifier models that attempt to classify modal objective variables by ranking the explanatory power by branching and sub-branching on the various features. GBT is like a search-assisted version of the decision tree model. These models can also work with continuous (float) value variables, but are naturally specified, mathematically, to accomodate ones and zeroes.\n",
    "\n",
    "I'd recommend the logistic regression classifier, on the basis of what I've seen here, due to its explainability, its fully developed implementation, and the performance overall, as seen in both the ROC curve and the precision-recall curve.\n",
    "\n",
    "As far as what kinds of users, as such, should be considered at risk: primarily the span of time they waited before ordering something, the country of origin being among a few dodgy ones, and the source (Ads or SEO, etc) feature seem to explain fraudulent transactions well. There are some time of day buckets at risk, and possible combinations of browser and purchase size, but those explain much less, in the dataset we're looking at.\n"
   ]
  },
  {
   "cell_type": "raw",
   "id": "63abeb0f-876e-4d27-88a4-d48ae5b597d2",
   "metadata": {},
   "source": [
    "4) > Let's say you now have this model which can be used live to predict in real time if an activity is fraudulent or not. From a product perspective, how would you use it? That is, what kind of different user experiences would you build based on the model output?\n",
    "\n",
    "\n",
    "\n",
    "I'd try to make sure the same code was used for the model.transform step as was used in the training and evaluation. I'd also try to embed the model estimation in an iterative search with a pool of models, such that that iteration would try to minimize false negatives in the evaluation sets, as they are randomly generated in the iterative process, selecting for trained models that optimize out of sample, wrapping the training iteratively in a genetic algorithm in effect, to broadly maximize out of sample predictive power.\n",
    "\n",
    "By way of user experience, I'd take individual incoming requests, and allow a user setting with a checkbox for either a) accept default machine learning evaluation for model X, each model, or b) hold the transaction, pending inspection of model results for a manual intervention. Refinement based on user feedback could be bucketed by user education, and could be helped by reenforcing correct mental models in the user interface. Basically, you'd have a dashboard, with the arriving transactions having a risk rating above some threshold, all showing up in the queue for either human assessment, or for automatic decline, depending how the risk manager set the settings.\n"
   ]
  }
 ],
 "metadata": {
  "kernelspec": {
   "display_name": "Python 3 (ipykernel)",
   "language": "python",
   "name": "python3"
  },
  "language_info": {
   "codemirror_mode": {
    "name": "ipython",
    "version": 3
   },
   "file_extension": ".py",
   "mimetype": "text/x-python",
   "name": "python",
   "nbconvert_exporter": "python",
   "pygments_lexer": "ipython3",
   "version": "3.8.8"
  }
 },
 "nbformat": 4,
 "nbformat_minor": 5
}
